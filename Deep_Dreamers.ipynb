{
  "cells": [
    {
      "cell_type": "code",
      "execution_count": 1,
      "id": "4a6d9f3d",
      "metadata": {
        "id": "4a6d9f3d"
      },
      "outputs": [],
      "source": [
        "import itertools\n",
        "from sklearn.neighbors import KNeighborsRegressor, KNeighborsClassifier\n",
        "import pandas as pd\n",
        "import numpy as np\n",
        "import matplotlib.pyplot as plt\n",
        "from sklearn.linear_model import LinearRegression, Ridge, Lasso, LogisticRegression\n",
        "from sklearn.svm import SVC\n",
        "from sklearn.pipeline import make_pipeline\n",
        "from sklearn.preprocessing import StandardScaler\n",
        "from sklearn.neighbors import NearestNeighbors\n",
        "from sklearn.model_selection import cross_validate\n",
        "from sklearn.naive_bayes import MultinomialNB,BernoulliNB,GaussianNB\n",
        "from sklearn.ensemble import RandomForestClassifier,GradientBoostingClassifier,ExtraTreesClassifier"
      ]
    },
    {
      "cell_type": "code",
      "source": [
        "!pip install kaggle\n",
        "from google.colab import drive\n",
        "drive.mount('/content/drive')\n",
        "import os\n",
        "os.environ['KAGGLE_CONFIG_DIR'] = '/content/drive/MyDrive/kaggle'\n"
      ],
      "metadata": {
        "colab": {
          "base_uri": "https://localhost:8080/",
          "height": 0
        },
        "id": "oGw0Qv1psym5",
        "outputId": "65367032-0745-4006-8a3e-40a48b79904b"
      },
      "id": "oGw0Qv1psym5",
      "execution_count": 4,
      "outputs": [
        {
          "output_type": "stream",
          "name": "stdout",
          "text": [
            "Requirement already satisfied: kaggle in /usr/local/lib/python3.10/dist-packages (1.5.16)\n",
            "Requirement already satisfied: six>=1.10 in /usr/local/lib/python3.10/dist-packages (from kaggle) (1.16.0)\n",
            "Requirement already satisfied: certifi in /usr/local/lib/python3.10/dist-packages (from kaggle) (2024.2.2)\n",
            "Requirement already satisfied: python-dateutil in /usr/local/lib/python3.10/dist-packages (from kaggle) (2.8.2)\n",
            "Requirement already satisfied: requests in /usr/local/lib/python3.10/dist-packages (from kaggle) (2.31.0)\n",
            "Requirement already satisfied: tqdm in /usr/local/lib/python3.10/dist-packages (from kaggle) (4.66.1)\n",
            "Requirement already satisfied: python-slugify in /usr/local/lib/python3.10/dist-packages (from kaggle) (8.0.3)\n",
            "Requirement already satisfied: urllib3 in /usr/local/lib/python3.10/dist-packages (from kaggle) (2.0.7)\n",
            "Requirement already satisfied: bleach in /usr/local/lib/python3.10/dist-packages (from kaggle) (6.1.0)\n",
            "Requirement already satisfied: webencodings in /usr/local/lib/python3.10/dist-packages (from bleach->kaggle) (0.5.1)\n",
            "Requirement already satisfied: text-unidecode>=1.3 in /usr/local/lib/python3.10/dist-packages (from python-slugify->kaggle) (1.3)\n",
            "Requirement already satisfied: charset-normalizer<4,>=2 in /usr/local/lib/python3.10/dist-packages (from requests->kaggle) (3.3.2)\n",
            "Requirement already satisfied: idna<4,>=2.5 in /usr/local/lib/python3.10/dist-packages (from requests->kaggle) (3.6)\n",
            "Traceback (most recent call last):\n",
            "  File \"/usr/local/bin/kaggle\", line 5, in <module>\n",
            "    from kaggle.cli import main\n",
            "  File \"/usr/local/lib/python3.10/dist-packages/kaggle/__init__.py\", line 23, in <module>\n",
            "    api.authenticate()\n",
            "  File \"/usr/local/lib/python3.10/dist-packages/kaggle/api/kaggle_api_extended.py\", line 403, in authenticate\n",
            "    raise IOError('Could not find {}. Make sure it\\'s located in'\n",
            "OSError: Could not find kaggle.json. Make sure it's located in /content/drive/MyDrive/kaggle. Or use the environment method.\n"
          ]
        }
      ]
    },
    {
      "cell_type": "code",
      "source": [
        "!kaggle datasets download -d houssemaminetouihri/godatascience2023"
      ],
      "metadata": {
        "colab": {
          "base_uri": "https://localhost:8080/",
          "height": 0
        },
        "id": "QzAa0k-UuERe",
        "outputId": "51638423-6ecb-439d-9f2f-f00147f8dae8"
      },
      "id": "QzAa0k-UuERe",
      "execution_count": 6,
      "outputs": [
        {
          "output_type": "stream",
          "name": "stdout",
          "text": [
            "Warning: Your Kaggle API key is readable by other users on this system! To fix this, you can run 'chmod 600 /content/drive/MyDrive/kaggle/kaggle.json'\n",
            "Downloading godatascience2023.zip to /content\n",
            "100% 305M/305M [00:16<00:00, 16.5MB/s]\n",
            "100% 305M/305M [00:16<00:00, 19.2MB/s]\n"
          ]
        }
      ]
    },
    {
      "cell_type": "code",
      "source": [
        "import zipfile\n",
        "\n",
        "# Define the path to your zip file\n",
        "file_path = '/content/drive/MyDrive/kaggle/godatascience2023.zip'  # Replace 'your_file.zip' with your file's name\n",
        "\n",
        "# Unzip the file to a specific destination\n",
        "with zipfile.ZipFile(file_path, 'r') as zip_ref:\n",
        "    zip_ref.extractall('/content/drive/MyDrive/kaggle')"
      ],
      "metadata": {
        "id": "ZW_aIWPXuWNl"
      },
      "id": "ZW_aIWPXuWNl",
      "execution_count": 7,
      "outputs": []
    },
    {
      "cell_type": "code",
      "execution_count": 19,
      "id": "e3be0fb7",
      "metadata": {
        "id": "e3be0fb7"
      },
      "outputs": [],
      "source": [
        "train=pd.read_csv('/content/drive/MyDrive/kaggle/Train_one_hot/Train.csv')\n",
        "test=pd.read_csv('/content/drive/MyDrive/kaggle/Test/Test.csv')\n",
        "ss=pd.read_csv('/content/drive/MyDrive/kaggle/SampleSubmission.csv')"
      ]
    },
    {
      "cell_type": "code",
      "execution_count": 9,
      "id": "7b690240",
      "metadata": {
        "colab": {
          "base_uri": "https://localhost:8080/",
          "height": 0
        },
        "id": "7b690240",
        "outputId": "d86d0dbe-d2c3-4aef-9aec-2f7a4ca17f6b"
      },
      "outputs": [
        {
          "output_type": "execute_result",
          "data": {
            "text/plain": [
              "(324099, 59)"
            ]
          },
          "metadata": {},
          "execution_count": 9
        }
      ],
      "source": [
        "train.shape"
      ]
    },
    {
      "cell_type": "code",
      "execution_count": 20,
      "id": "79855125",
      "metadata": {
        "colab": {
          "base_uri": "https://localhost:8080/",
          "height": 0
        },
        "id": "79855125",
        "outputId": "1131ab91-05b5-4cf6-d8ef-1406972385e8"
      },
      "outputs": [
        {
          "output_type": "execute_result",
          "data": {
            "text/plain": [
              "ID                                                    0\n",
              "cert.alt                                         235327\n",
              "cert.curve                                       314335\n",
              "cert.hash                                        235289\n",
              "cert.issuerCN                                    235293\n",
              "cert.issuerON                                    235293\n",
              "cert.notAfter                                    235289\n",
              "cert.notBefore                                   235289\n",
              "cert.publicAlgorithm                             235289\n",
              "cert.remainingDays                               235289\n",
              "cert.serial                                      235289\n",
              "cert.subjectCN                                   235289\n",
              "cert.subjectON                                   235403\n",
              "cert.validDays                                   235289\n",
              "ip.dsfield.dscp                                       0\n",
              "ip.dsfield.ecn                                        0\n",
              "ip.flags.df                                           0\n",
              "ip.id                                                 0\n",
              "ip.len                                                0\n",
              "ip.ttl                                                0\n",
              "tcp.flags                                             0\n",
              "tcp.offset                                            0\n",
              "tcp.options.timestamp.tsval                           0\n",
              "tcp.window_size_value                                 0\n",
              "tls.cipher                                            0\n",
              "tls.handshake.ciphersuite.ch                          0\n",
              "tls.handshake.extension.len                           0\n",
              "tls.handshake.extension.type                          0\n",
              "tls.handshake.extensions.supported_version.ch       365\n",
              "tls.handshake.extensions_alpn_str.ch                  0\n",
              "tls.handshake.extensions_alpn_str.sh             240925\n",
              "tls.handshake.extensions_ec_point_format.ch           0\n",
              "tls.handshake.extensions_ec_point_format.sh           0\n",
              "tls.handshake.extensions_length                       0\n",
              "tls.handshake.extensions_supported_group.ch           0\n",
              "tls.handshake.sig_hash_alg.ch                         0\n",
              "tls.handshake.type                                    0\n",
              "tls.handshake.version.ch                              0\n",
              "tls.handshake.version.sh                              0\n",
              "tls.ja3                                               0\n",
              "tls.ja3s                                              0\n",
              "tls.record.version.ch                                 0\n",
              "frame.time_epoch                                      0\n",
              "packet_directions                                     0\n",
              "linux_centos-7                                        0\n",
              "linux_opensuse-15.4                                   0\n",
              "linux_ubuntu-22.04.1                                  0\n",
              "macos_big-sur                                         0\n",
              "macos_catalina                                        0\n",
              "macos_monterey                                        0\n",
              "windows_windows-10                                    0\n",
              "windows_windows-11                                    0\n",
              "windows_windows-7                                     0\n",
              "windows_windows-server-2012                           0\n",
              "windows_windows-server-2012-r2                        0\n",
              "chrome                                                0\n",
              "edge                                                  0\n",
              "firefox                                               0\n",
              "opera                                                 0\n",
              "dtype: int64"
            ]
          },
          "metadata": {},
          "execution_count": 20
        }
      ],
      "source": [
        "train.isna().sum()"
      ]
    },
    {
      "cell_type": "code",
      "execution_count": 22,
      "id": "3ed0dde7",
      "metadata": {
        "id": "3ed0dde7"
      },
      "outputs": [],
      "source": [
        "#dropping columns with many missing values\n",
        "l=[]\n",
        "for x in train.columns:\n",
        "  if train[x].isna().sum() >0:\n",
        "    train.drop([x],axis=1,inplace=True)\n",
        "for x in test.columns:\n",
        "  if test[x].isna().sum() >0:\n",
        "    test.drop([x],axis=1,inplace=True)\n"
      ]
    },
    {
      "cell_type": "code",
      "source": [
        "train.isna().sum()\n",
        "\n",
        "y = train.iloc[:, train.columns.get_loc('linux_centos-7'):]\n",
        "\n",
        "X = train.drop(y.columns, axis=1)\n",
        "X.columns\n"
      ],
      "metadata": {
        "colab": {
          "base_uri": "https://localhost:8080/",
          "height": 0
        },
        "id": "bAMkweuvvLeW",
        "outputId": "353818e9-f93e-48cf-c97c-cff78e3d92aa"
      },
      "id": "bAMkweuvvLeW",
      "execution_count": 37,
      "outputs": [
        {
          "output_type": "execute_result",
          "data": {
            "text/plain": [
              "Index(['ID', 'ip.dsfield.dscp', 'ip.dsfield.ecn', 'ip.flags.df', 'ip.id',\n",
              "       'ip.len', 'ip.ttl', 'tcp.flags', 'tcp.offset',\n",
              "       'tcp.options.timestamp.tsval', 'tcp.window_size_value', 'tls.cipher',\n",
              "       'tls.handshake.ciphersuite.ch', 'tls.handshake.extension.len',\n",
              "       'tls.handshake.extension.type', 'tls.handshake.extensions_alpn_str.ch',\n",
              "       'tls.handshake.extensions_ec_point_format.ch',\n",
              "       'tls.handshake.extensions_ec_point_format.sh',\n",
              "       'tls.handshake.extensions_length',\n",
              "       'tls.handshake.extensions_supported_group.ch',\n",
              "       'tls.handshake.sig_hash_alg.ch', 'tls.handshake.type',\n",
              "       'tls.handshake.version.ch', 'tls.handshake.version.sh', 'tls.ja3',\n",
              "       'tls.ja3s', 'tls.record.version.ch', 'frame.time_epoch',\n",
              "       'packet_directions'],\n",
              "      dtype='object')"
            ]
          },
          "metadata": {},
          "execution_count": 37
        }
      ]
    },
    {
      "cell_type": "code",
      "execution_count": 38,
      "id": "400307c7",
      "metadata": {
        "id": "400307c7"
      },
      "outputs": [],
      "source": [
        "concat_df = pd.concat([X, test], axis=0)"
      ]
    },
    {
      "cell_type": "code",
      "execution_count": 39,
      "id": "f25c2113",
      "metadata": {
        "id": "f25c2113"
      },
      "outputs": [],
      "source": [
        "#replacing each list by its length\n",
        "import ast\n",
        "from sklearn.preprocessing import LabelEncoder\n",
        "def modify_value(value):\n",
        "    if isinstance(value,str):\n",
        "      x=len(value)\n",
        "    else:\n",
        "      x=value\n",
        "    return x\n",
        "all=pd.DataFrame()\n",
        "for i in X.columns:\n",
        "  X_new = concat_df[i].apply(modify_value)\n",
        "  all=pd.concat([all.reset_index(drop=True),X_new.reset_index(drop=True)],axis=1)"
      ]
    },
    {
      "cell_type": "code",
      "execution_count": 40,
      "id": "ce36e63b",
      "metadata": {
        "id": "ce36e63b"
      },
      "outputs": [],
      "source": [
        "#label encoding\n",
        "all1=pd.DataFrame()\n",
        "for i in X.columns:\n",
        "    lbl=LabelEncoder()\n",
        "    e=lbl.fit_transform(concat_df[i])\n",
        "    e=pd.DataFrame(e,columns=[i+'_lbl'])\n",
        "    all1=pd.concat([all1.reset_index(drop=True),e.reset_index(drop=True)],axis=1)"
      ]
    },
    {
      "cell_type": "code",
      "execution_count": 41,
      "id": "eaeee190",
      "metadata": {
        "id": "eaeee190"
      },
      "outputs": [],
      "source": [
        "#concatinatin two dataframes, it will be used for the train and test\n",
        "jemla=pd.concat([all,all1],axis=1)"
      ]
    },
    {
      "cell_type": "code",
      "execution_count": 42,
      "id": "03021e8e",
      "metadata": {
        "id": "03021e8e"
      },
      "outputs": [],
      "source": [
        "tr = jemla.iloc[:X.shape[0], :]\n",
        "te = jemla.iloc[X.shape[0]:, :]"
      ]
    },
    {
      "cell_type": "code",
      "execution_count": 43,
      "id": "3227906d",
      "metadata": {
        "colab": {
          "base_uri": "https://localhost:8080/",
          "height": 256
        },
        "id": "3227906d",
        "outputId": "d6cefed6-5034-4624-b41e-df23f4d05782"
      },
      "outputs": [
        {
          "output_type": "execute_result",
          "data": {
            "text/plain": [
              "        ID  ip.dsfield.dscp  ip.dsfield.ecn  ip.flags.df  ip.id  ip.len  \\\n",
              "324099   9              145             145          145    290     185   \n",
              "324100   9               80              80           80    160     105   \n",
              "324101   9              190             190          190    380     240   \n",
              "324102   9              130             130          130    260     171   \n",
              "324103   9              110             110          110    220     147   \n",
              "\n",
              "        ip.ttl  tcp.flags  tcp.offset  tcp.options.timestamp.tsval  ...  \\\n",
              "324099     174        359         174                          406  ...   \n",
              "324100      96        186          96                          174  ...   \n",
              "324101     228        489         228                          512  ...   \n",
              "324102     156        353         156                          352  ...   \n",
              "324103     141        310         132                           88  ...   \n",
              "\n",
              "        tls.handshake.extensions_supported_group.ch_lbl  \\\n",
              "324099                                               32   \n",
              "324100                                               20   \n",
              "324101                                                1   \n",
              "324102                                               14   \n",
              "324103                                                1   \n",
              "\n",
              "        tls.handshake.sig_hash_alg.ch_lbl  tls.handshake.type_lbl  \\\n",
              "324099                                  6                    5534   \n",
              "324100                                  6                    3985   \n",
              "324101                                  1                   29999   \n",
              "324102                                  6                    5629   \n",
              "324103                                  1                   21485   \n",
              "\n",
              "        tls.handshake.version.ch_lbl  tls.handshake.version.sh_lbl  \\\n",
              "324099                             1                             2   \n",
              "324100                             1                             2   \n",
              "324101                             1                             1   \n",
              "324102                             1                             2   \n",
              "324103                             1                             1   \n",
              "\n",
              "        tls.ja3_lbl  tls.ja3s_lbl  tls.record.version.ch_lbl  \\\n",
              "324099           64         41721                          0   \n",
              "324100           64        117659                          0   \n",
              "324101           29         11552                          0   \n",
              "324102           53         96546                          0   \n",
              "324103           29         11552                          0   \n",
              "\n",
              "        frame.time_epoch_lbl  packet_directions_lbl  \n",
              "324099                281430                 212434  \n",
              "324100                472723                 284328  \n",
              "324101                  7820                 133006  \n",
              "324102                407719                 193059  \n",
              "324103                 98748                   6374  \n",
              "\n",
              "[5 rows x 58 columns]"
            ],
            "text/html": [
              "\n",
              "  <div id=\"df-054d2872-632e-4e56-ad90-f7ae6c711d30\" class=\"colab-df-container\">\n",
              "    <div>\n",
              "<style scoped>\n",
              "    .dataframe tbody tr th:only-of-type {\n",
              "        vertical-align: middle;\n",
              "    }\n",
              "\n",
              "    .dataframe tbody tr th {\n",
              "        vertical-align: top;\n",
              "    }\n",
              "\n",
              "    .dataframe thead th {\n",
              "        text-align: right;\n",
              "    }\n",
              "</style>\n",
              "<table border=\"1\" class=\"dataframe\">\n",
              "  <thead>\n",
              "    <tr style=\"text-align: right;\">\n",
              "      <th></th>\n",
              "      <th>ID</th>\n",
              "      <th>ip.dsfield.dscp</th>\n",
              "      <th>ip.dsfield.ecn</th>\n",
              "      <th>ip.flags.df</th>\n",
              "      <th>ip.id</th>\n",
              "      <th>ip.len</th>\n",
              "      <th>ip.ttl</th>\n",
              "      <th>tcp.flags</th>\n",
              "      <th>tcp.offset</th>\n",
              "      <th>tcp.options.timestamp.tsval</th>\n",
              "      <th>...</th>\n",
              "      <th>tls.handshake.extensions_supported_group.ch_lbl</th>\n",
              "      <th>tls.handshake.sig_hash_alg.ch_lbl</th>\n",
              "      <th>tls.handshake.type_lbl</th>\n",
              "      <th>tls.handshake.version.ch_lbl</th>\n",
              "      <th>tls.handshake.version.sh_lbl</th>\n",
              "      <th>tls.ja3_lbl</th>\n",
              "      <th>tls.ja3s_lbl</th>\n",
              "      <th>tls.record.version.ch_lbl</th>\n",
              "      <th>frame.time_epoch_lbl</th>\n",
              "      <th>packet_directions_lbl</th>\n",
              "    </tr>\n",
              "  </thead>\n",
              "  <tbody>\n",
              "    <tr>\n",
              "      <th>324099</th>\n",
              "      <td>9</td>\n",
              "      <td>145</td>\n",
              "      <td>145</td>\n",
              "      <td>145</td>\n",
              "      <td>290</td>\n",
              "      <td>185</td>\n",
              "      <td>174</td>\n",
              "      <td>359</td>\n",
              "      <td>174</td>\n",
              "      <td>406</td>\n",
              "      <td>...</td>\n",
              "      <td>32</td>\n",
              "      <td>6</td>\n",
              "      <td>5534</td>\n",
              "      <td>1</td>\n",
              "      <td>2</td>\n",
              "      <td>64</td>\n",
              "      <td>41721</td>\n",
              "      <td>0</td>\n",
              "      <td>281430</td>\n",
              "      <td>212434</td>\n",
              "    </tr>\n",
              "    <tr>\n",
              "      <th>324100</th>\n",
              "      <td>9</td>\n",
              "      <td>80</td>\n",
              "      <td>80</td>\n",
              "      <td>80</td>\n",
              "      <td>160</td>\n",
              "      <td>105</td>\n",
              "      <td>96</td>\n",
              "      <td>186</td>\n",
              "      <td>96</td>\n",
              "      <td>174</td>\n",
              "      <td>...</td>\n",
              "      <td>20</td>\n",
              "      <td>6</td>\n",
              "      <td>3985</td>\n",
              "      <td>1</td>\n",
              "      <td>2</td>\n",
              "      <td>64</td>\n",
              "      <td>117659</td>\n",
              "      <td>0</td>\n",
              "      <td>472723</td>\n",
              "      <td>284328</td>\n",
              "    </tr>\n",
              "    <tr>\n",
              "      <th>324101</th>\n",
              "      <td>9</td>\n",
              "      <td>190</td>\n",
              "      <td>190</td>\n",
              "      <td>190</td>\n",
              "      <td>380</td>\n",
              "      <td>240</td>\n",
              "      <td>228</td>\n",
              "      <td>489</td>\n",
              "      <td>228</td>\n",
              "      <td>512</td>\n",
              "      <td>...</td>\n",
              "      <td>1</td>\n",
              "      <td>1</td>\n",
              "      <td>29999</td>\n",
              "      <td>1</td>\n",
              "      <td>1</td>\n",
              "      <td>29</td>\n",
              "      <td>11552</td>\n",
              "      <td>0</td>\n",
              "      <td>7820</td>\n",
              "      <td>133006</td>\n",
              "    </tr>\n",
              "    <tr>\n",
              "      <th>324102</th>\n",
              "      <td>9</td>\n",
              "      <td>130</td>\n",
              "      <td>130</td>\n",
              "      <td>130</td>\n",
              "      <td>260</td>\n",
              "      <td>171</td>\n",
              "      <td>156</td>\n",
              "      <td>353</td>\n",
              "      <td>156</td>\n",
              "      <td>352</td>\n",
              "      <td>...</td>\n",
              "      <td>14</td>\n",
              "      <td>6</td>\n",
              "      <td>5629</td>\n",
              "      <td>1</td>\n",
              "      <td>2</td>\n",
              "      <td>53</td>\n",
              "      <td>96546</td>\n",
              "      <td>0</td>\n",
              "      <td>407719</td>\n",
              "      <td>193059</td>\n",
              "    </tr>\n",
              "    <tr>\n",
              "      <th>324103</th>\n",
              "      <td>9</td>\n",
              "      <td>110</td>\n",
              "      <td>110</td>\n",
              "      <td>110</td>\n",
              "      <td>220</td>\n",
              "      <td>147</td>\n",
              "      <td>141</td>\n",
              "      <td>310</td>\n",
              "      <td>132</td>\n",
              "      <td>88</td>\n",
              "      <td>...</td>\n",
              "      <td>1</td>\n",
              "      <td>1</td>\n",
              "      <td>21485</td>\n",
              "      <td>1</td>\n",
              "      <td>1</td>\n",
              "      <td>29</td>\n",
              "      <td>11552</td>\n",
              "      <td>0</td>\n",
              "      <td>98748</td>\n",
              "      <td>6374</td>\n",
              "    </tr>\n",
              "  </tbody>\n",
              "</table>\n",
              "<p>5 rows × 58 columns</p>\n",
              "</div>\n",
              "    <div class=\"colab-df-buttons\">\n",
              "\n",
              "  <div class=\"colab-df-container\">\n",
              "    <button class=\"colab-df-convert\" onclick=\"convertToInteractive('df-054d2872-632e-4e56-ad90-f7ae6c711d30')\"\n",
              "            title=\"Convert this dataframe to an interactive table.\"\n",
              "            style=\"display:none;\">\n",
              "\n",
              "  <svg xmlns=\"http://www.w3.org/2000/svg\" height=\"24px\" viewBox=\"0 -960 960 960\">\n",
              "    <path d=\"M120-120v-720h720v720H120Zm60-500h600v-160H180v160Zm220 220h160v-160H400v160Zm0 220h160v-160H400v160ZM180-400h160v-160H180v160Zm440 0h160v-160H620v160ZM180-180h160v-160H180v160Zm440 0h160v-160H620v160Z\"/>\n",
              "  </svg>\n",
              "    </button>\n",
              "\n",
              "  <style>\n",
              "    .colab-df-container {\n",
              "      display:flex;\n",
              "      gap: 12px;\n",
              "    }\n",
              "\n",
              "    .colab-df-convert {\n",
              "      background-color: #E8F0FE;\n",
              "      border: none;\n",
              "      border-radius: 50%;\n",
              "      cursor: pointer;\n",
              "      display: none;\n",
              "      fill: #1967D2;\n",
              "      height: 32px;\n",
              "      padding: 0 0 0 0;\n",
              "      width: 32px;\n",
              "    }\n",
              "\n",
              "    .colab-df-convert:hover {\n",
              "      background-color: #E2EBFA;\n",
              "      box-shadow: 0px 1px 2px rgba(60, 64, 67, 0.3), 0px 1px 3px 1px rgba(60, 64, 67, 0.15);\n",
              "      fill: #174EA6;\n",
              "    }\n",
              "\n",
              "    .colab-df-buttons div {\n",
              "      margin-bottom: 4px;\n",
              "    }\n",
              "\n",
              "    [theme=dark] .colab-df-convert {\n",
              "      background-color: #3B4455;\n",
              "      fill: #D2E3FC;\n",
              "    }\n",
              "\n",
              "    [theme=dark] .colab-df-convert:hover {\n",
              "      background-color: #434B5C;\n",
              "      box-shadow: 0px 1px 3px 1px rgba(0, 0, 0, 0.15);\n",
              "      filter: drop-shadow(0px 1px 2px rgba(0, 0, 0, 0.3));\n",
              "      fill: #FFFFFF;\n",
              "    }\n",
              "  </style>\n",
              "\n",
              "    <script>\n",
              "      const buttonEl =\n",
              "        document.querySelector('#df-054d2872-632e-4e56-ad90-f7ae6c711d30 button.colab-df-convert');\n",
              "      buttonEl.style.display =\n",
              "        google.colab.kernel.accessAllowed ? 'block' : 'none';\n",
              "\n",
              "      async function convertToInteractive(key) {\n",
              "        const element = document.querySelector('#df-054d2872-632e-4e56-ad90-f7ae6c711d30');\n",
              "        const dataTable =\n",
              "          await google.colab.kernel.invokeFunction('convertToInteractive',\n",
              "                                                    [key], {});\n",
              "        if (!dataTable) return;\n",
              "\n",
              "        const docLinkHtml = 'Like what you see? Visit the ' +\n",
              "          '<a target=\"_blank\" href=https://colab.research.google.com/notebooks/data_table.ipynb>data table notebook</a>'\n",
              "          + ' to learn more about interactive tables.';\n",
              "        element.innerHTML = '';\n",
              "        dataTable['output_type'] = 'display_data';\n",
              "        await google.colab.output.renderOutput(dataTable, element);\n",
              "        const docLink = document.createElement('div');\n",
              "        docLink.innerHTML = docLinkHtml;\n",
              "        element.appendChild(docLink);\n",
              "      }\n",
              "    </script>\n",
              "  </div>\n",
              "\n",
              "\n",
              "<div id=\"df-33e77975-9a00-4be5-8fa7-d3569feade9e\">\n",
              "  <button class=\"colab-df-quickchart\" onclick=\"quickchart('df-33e77975-9a00-4be5-8fa7-d3569feade9e')\"\n",
              "            title=\"Suggest charts\"\n",
              "            style=\"display:none;\">\n",
              "\n",
              "<svg xmlns=\"http://www.w3.org/2000/svg\" height=\"24px\"viewBox=\"0 0 24 24\"\n",
              "     width=\"24px\">\n",
              "    <g>\n",
              "        <path d=\"M19 3H5c-1.1 0-2 .9-2 2v14c0 1.1.9 2 2 2h14c1.1 0 2-.9 2-2V5c0-1.1-.9-2-2-2zM9 17H7v-7h2v7zm4 0h-2V7h2v10zm4 0h-2v-4h2v4z\"/>\n",
              "    </g>\n",
              "</svg>\n",
              "  </button>\n",
              "\n",
              "<style>\n",
              "  .colab-df-quickchart {\n",
              "      --bg-color: #E8F0FE;\n",
              "      --fill-color: #1967D2;\n",
              "      --hover-bg-color: #E2EBFA;\n",
              "      --hover-fill-color: #174EA6;\n",
              "      --disabled-fill-color: #AAA;\n",
              "      --disabled-bg-color: #DDD;\n",
              "  }\n",
              "\n",
              "  [theme=dark] .colab-df-quickchart {\n",
              "      --bg-color: #3B4455;\n",
              "      --fill-color: #D2E3FC;\n",
              "      --hover-bg-color: #434B5C;\n",
              "      --hover-fill-color: #FFFFFF;\n",
              "      --disabled-bg-color: #3B4455;\n",
              "      --disabled-fill-color: #666;\n",
              "  }\n",
              "\n",
              "  .colab-df-quickchart {\n",
              "    background-color: var(--bg-color);\n",
              "    border: none;\n",
              "    border-radius: 50%;\n",
              "    cursor: pointer;\n",
              "    display: none;\n",
              "    fill: var(--fill-color);\n",
              "    height: 32px;\n",
              "    padding: 0;\n",
              "    width: 32px;\n",
              "  }\n",
              "\n",
              "  .colab-df-quickchart:hover {\n",
              "    background-color: var(--hover-bg-color);\n",
              "    box-shadow: 0 1px 2px rgba(60, 64, 67, 0.3), 0 1px 3px 1px rgba(60, 64, 67, 0.15);\n",
              "    fill: var(--button-hover-fill-color);\n",
              "  }\n",
              "\n",
              "  .colab-df-quickchart-complete:disabled,\n",
              "  .colab-df-quickchart-complete:disabled:hover {\n",
              "    background-color: var(--disabled-bg-color);\n",
              "    fill: var(--disabled-fill-color);\n",
              "    box-shadow: none;\n",
              "  }\n",
              "\n",
              "  .colab-df-spinner {\n",
              "    border: 2px solid var(--fill-color);\n",
              "    border-color: transparent;\n",
              "    border-bottom-color: var(--fill-color);\n",
              "    animation:\n",
              "      spin 1s steps(1) infinite;\n",
              "  }\n",
              "\n",
              "  @keyframes spin {\n",
              "    0% {\n",
              "      border-color: transparent;\n",
              "      border-bottom-color: var(--fill-color);\n",
              "      border-left-color: var(--fill-color);\n",
              "    }\n",
              "    20% {\n",
              "      border-color: transparent;\n",
              "      border-left-color: var(--fill-color);\n",
              "      border-top-color: var(--fill-color);\n",
              "    }\n",
              "    30% {\n",
              "      border-color: transparent;\n",
              "      border-left-color: var(--fill-color);\n",
              "      border-top-color: var(--fill-color);\n",
              "      border-right-color: var(--fill-color);\n",
              "    }\n",
              "    40% {\n",
              "      border-color: transparent;\n",
              "      border-right-color: var(--fill-color);\n",
              "      border-top-color: var(--fill-color);\n",
              "    }\n",
              "    60% {\n",
              "      border-color: transparent;\n",
              "      border-right-color: var(--fill-color);\n",
              "    }\n",
              "    80% {\n",
              "      border-color: transparent;\n",
              "      border-right-color: var(--fill-color);\n",
              "      border-bottom-color: var(--fill-color);\n",
              "    }\n",
              "    90% {\n",
              "      border-color: transparent;\n",
              "      border-bottom-color: var(--fill-color);\n",
              "    }\n",
              "  }\n",
              "</style>\n",
              "\n",
              "  <script>\n",
              "    async function quickchart(key) {\n",
              "      const quickchartButtonEl =\n",
              "        document.querySelector('#' + key + ' button');\n",
              "      quickchartButtonEl.disabled = true;  // To prevent multiple clicks.\n",
              "      quickchartButtonEl.classList.add('colab-df-spinner');\n",
              "      try {\n",
              "        const charts = await google.colab.kernel.invokeFunction(\n",
              "            'suggestCharts', [key], {});\n",
              "      } catch (error) {\n",
              "        console.error('Error during call to suggestCharts:', error);\n",
              "      }\n",
              "      quickchartButtonEl.classList.remove('colab-df-spinner');\n",
              "      quickchartButtonEl.classList.add('colab-df-quickchart-complete');\n",
              "    }\n",
              "    (() => {\n",
              "      let quickchartButtonEl =\n",
              "        document.querySelector('#df-33e77975-9a00-4be5-8fa7-d3569feade9e button');\n",
              "      quickchartButtonEl.style.display =\n",
              "        google.colab.kernel.accessAllowed ? 'block' : 'none';\n",
              "    })();\n",
              "  </script>\n",
              "</div>\n",
              "\n",
              "    </div>\n",
              "  </div>\n"
            ]
          },
          "metadata": {},
          "execution_count": 43
        }
      ],
      "source": [
        "te.head()"
      ]
    },
    {
      "cell_type": "code",
      "execution_count": 44,
      "id": "897b2c55",
      "metadata": {
        "id": "897b2c55"
      },
      "outputs": [],
      "source": [
        "from sklearn.decomposition import PCA\n",
        "pca=PCA(28)\n",
        "X_pca=pca.fit_transform(tr)\n",
        "Te_pca=pca.transform(te)"
      ]
    },
    {
      "cell_type": "code",
      "execution_count": 45,
      "id": "5308039e",
      "metadata": {
        "id": "5308039e"
      },
      "outputs": [],
      "source": [
        "pca_train = pd.DataFrame(X_pca)\n",
        "pca_test = pd.DataFrame(Te_pca)"
      ]
    },
    {
      "cell_type": "code",
      "execution_count": 46,
      "id": "baaad74e",
      "metadata": {
        "id": "baaad74e"
      },
      "outputs": [],
      "source": [
        "df_train = pd.concat([tr, pca_train],axis=1)\n"
      ]
    },
    {
      "cell_type": "code",
      "execution_count": 47,
      "id": "101c3bd1",
      "metadata": {
        "id": "101c3bd1"
      },
      "outputs": [],
      "source": [
        "df_test1 = pd.concat([te, pca_test],axis=1)"
      ]
    },
    {
      "cell_type": "code",
      "execution_count": 48,
      "id": "b8810562",
      "metadata": {
        "colab": {
          "base_uri": "https://localhost:8080/",
          "height": 0
        },
        "id": "b8810562",
        "outputId": "581398b4-f4a5-4e88-ac00-7c159c65eb9e"
      },
      "outputs": [
        {
          "output_type": "execute_result",
          "data": {
            "text/plain": [
              "(324099, 86)"
            ]
          },
          "metadata": {},
          "execution_count": 48
        }
      ],
      "source": [
        "df_train.shape"
      ]
    },
    {
      "cell_type": "code",
      "execution_count": 49,
      "id": "86071cba",
      "metadata": {
        "colab": {
          "base_uri": "https://localhost:8080/",
          "height": 0
        },
        "id": "86071cba",
        "outputId": "19b59aae-0d10-47c1-a57d-ac0348aa49bf"
      },
      "outputs": [
        {
          "output_type": "execute_result",
          "data": {
            "text/plain": [
              "(159631, 28)"
            ]
          },
          "metadata": {},
          "execution_count": 49
        }
      ],
      "source": [
        "pca_test.shape"
      ]
    },
    {
      "cell_type": "code",
      "execution_count": 50,
      "id": "493e8815",
      "metadata": {
        "colab": {
          "base_uri": "https://localhost:8080/",
          "height": 175
        },
        "id": "493e8815",
        "outputId": "146f10d3-8024-41a7-aaf8-e5fe816a28f4"
      },
      "outputs": [
        {
          "output_type": "error",
          "ename": "TypeError",
          "evalue": "object of type 'builtin_function_or_method' has no len()",
          "traceback": [
            "\u001b[0;31m---------------------------------------------------------------------------\u001b[0m",
            "\u001b[0;31mTypeError\u001b[0m                                 Traceback (most recent call last)",
            "\u001b[0;32m<ipython-input-50-ca99e37e36eb>\u001b[0m in \u001b[0;36m<cell line: 1>\u001b[0;34m()\u001b[0m\n\u001b[0;32m----> 1\u001b[0;31m \u001b[0mlen\u001b[0m\u001b[0;34m(\u001b[0m\u001b[0mid\u001b[0m\u001b[0;34m)\u001b[0m\u001b[0;34m\u001b[0m\u001b[0;34m\u001b[0m\u001b[0m\n\u001b[0m",
            "\u001b[0;31mTypeError\u001b[0m: object of type 'builtin_function_or_method' has no len()"
          ]
        }
      ],
      "source": [
        "len(id)"
      ]
    },
    {
      "cell_type": "code",
      "execution_count": 51,
      "id": "4aab7a6a",
      "metadata": {
        "colab": {
          "base_uri": "https://localhost:8080/",
          "height": 390
        },
        "id": "4aab7a6a",
        "outputId": "5b71a1b8-2639-4075-8ee8-5f558bcd1019"
      },
      "outputs": [
        {
          "output_type": "error",
          "ename": "KeyboardInterrupt",
          "evalue": "",
          "traceback": [
            "\u001b[0;31m---------------------------------------------------------------------------\u001b[0m",
            "\u001b[0;31mKeyboardInterrupt\u001b[0m                         Traceback (most recent call last)",
            "\u001b[0;32m<ipython-input-51-5e3e139b1bad>\u001b[0m in \u001b[0;36m<cell line: 8>\u001b[0;34m()\u001b[0m\n\u001b[1;32m      6\u001b[0m \u001b[0mX_train\u001b[0m\u001b[0;34m,\u001b[0m \u001b[0mX_test\u001b[0m\u001b[0;34m,\u001b[0m \u001b[0my_train\u001b[0m\u001b[0;34m,\u001b[0m \u001b[0my_test\u001b[0m \u001b[0;34m=\u001b[0m \u001b[0mtrain_test_split\u001b[0m\u001b[0;34m(\u001b[0m\u001b[0mX_pca\u001b[0m\u001b[0;34m,\u001b[0m \u001b[0my\u001b[0m\u001b[0;34m,\u001b[0m \u001b[0mtest_size\u001b[0m\u001b[0;34m=\u001b[0m\u001b[0;36m0.2\u001b[0m\u001b[0;34m)\u001b[0m\u001b[0;34m\u001b[0m\u001b[0;34m\u001b[0m\u001b[0m\n\u001b[1;32m      7\u001b[0m \u001b[0;34m\u001b[0m\u001b[0m\n\u001b[0;32m----> 8\u001b[0;31m \u001b[0mxt\u001b[0m\u001b[0;34m.\u001b[0m\u001b[0mfit\u001b[0m\u001b[0;34m(\u001b[0m\u001b[0mX_train\u001b[0m\u001b[0;34m,\u001b[0m \u001b[0my_train\u001b[0m\u001b[0;34m)\u001b[0m\u001b[0;34m\u001b[0m\u001b[0;34m\u001b[0m\u001b[0m\n\u001b[0m\u001b[1;32m      9\u001b[0m \u001b[0;34m\u001b[0m\u001b[0m\n\u001b[1;32m     10\u001b[0m \u001b[0;31m# predict on the test data\u001b[0m\u001b[0;34m\u001b[0m\u001b[0;34m\u001b[0m\u001b[0m\n",
            "\u001b[0;32m/usr/local/lib/python3.10/dist-packages/sklearn/ensemble/_forest.py\u001b[0m in \u001b[0;36mfit\u001b[0;34m(self, X, y, sample_weight)\u001b[0m\n\u001b[1;32m    471\u001b[0m             \u001b[0;31m# parallel_backend contexts set at a higher level,\u001b[0m\u001b[0;34m\u001b[0m\u001b[0;34m\u001b[0m\u001b[0m\n\u001b[1;32m    472\u001b[0m             \u001b[0;31m# since correctness does not rely on using threads.\u001b[0m\u001b[0;34m\u001b[0m\u001b[0;34m\u001b[0m\u001b[0m\n\u001b[0;32m--> 473\u001b[0;31m             trees = Parallel(\n\u001b[0m\u001b[1;32m    474\u001b[0m                 \u001b[0mn_jobs\u001b[0m\u001b[0;34m=\u001b[0m\u001b[0mself\u001b[0m\u001b[0;34m.\u001b[0m\u001b[0mn_jobs\u001b[0m\u001b[0;34m,\u001b[0m\u001b[0;34m\u001b[0m\u001b[0;34m\u001b[0m\u001b[0m\n\u001b[1;32m    475\u001b[0m                 \u001b[0mverbose\u001b[0m\u001b[0;34m=\u001b[0m\u001b[0mself\u001b[0m\u001b[0;34m.\u001b[0m\u001b[0mverbose\u001b[0m\u001b[0;34m,\u001b[0m\u001b[0;34m\u001b[0m\u001b[0;34m\u001b[0m\u001b[0m\n",
            "\u001b[0;32m/usr/local/lib/python3.10/dist-packages/sklearn/utils/parallel.py\u001b[0m in \u001b[0;36m__call__\u001b[0;34m(self, iterable)\u001b[0m\n\u001b[1;32m     61\u001b[0m             \u001b[0;32mfor\u001b[0m \u001b[0mdelayed_func\u001b[0m\u001b[0;34m,\u001b[0m \u001b[0margs\u001b[0m\u001b[0;34m,\u001b[0m \u001b[0mkwargs\u001b[0m \u001b[0;32min\u001b[0m \u001b[0miterable\u001b[0m\u001b[0;34m\u001b[0m\u001b[0;34m\u001b[0m\u001b[0m\n\u001b[1;32m     62\u001b[0m         )\n\u001b[0;32m---> 63\u001b[0;31m         \u001b[0;32mreturn\u001b[0m \u001b[0msuper\u001b[0m\u001b[0;34m(\u001b[0m\u001b[0;34m)\u001b[0m\u001b[0;34m.\u001b[0m\u001b[0m__call__\u001b[0m\u001b[0;34m(\u001b[0m\u001b[0miterable_with_config\u001b[0m\u001b[0;34m)\u001b[0m\u001b[0;34m\u001b[0m\u001b[0;34m\u001b[0m\u001b[0m\n\u001b[0m\u001b[1;32m     64\u001b[0m \u001b[0;34m\u001b[0m\u001b[0m\n\u001b[1;32m     65\u001b[0m \u001b[0;34m\u001b[0m\u001b[0m\n",
            "\u001b[0;32m/usr/local/lib/python3.10/dist-packages/joblib/parallel.py\u001b[0m in \u001b[0;36m__call__\u001b[0;34m(self, iterable)\u001b[0m\n\u001b[1;32m   1861\u001b[0m             \u001b[0moutput\u001b[0m \u001b[0;34m=\u001b[0m \u001b[0mself\u001b[0m\u001b[0;34m.\u001b[0m\u001b[0m_get_sequential_output\u001b[0m\u001b[0;34m(\u001b[0m\u001b[0miterable\u001b[0m\u001b[0;34m)\u001b[0m\u001b[0;34m\u001b[0m\u001b[0;34m\u001b[0m\u001b[0m\n\u001b[1;32m   1862\u001b[0m             \u001b[0mnext\u001b[0m\u001b[0;34m(\u001b[0m\u001b[0moutput\u001b[0m\u001b[0;34m)\u001b[0m\u001b[0;34m\u001b[0m\u001b[0;34m\u001b[0m\u001b[0m\n\u001b[0;32m-> 1863\u001b[0;31m             \u001b[0;32mreturn\u001b[0m \u001b[0moutput\u001b[0m \u001b[0;32mif\u001b[0m \u001b[0mself\u001b[0m\u001b[0;34m.\u001b[0m\u001b[0mreturn_generator\u001b[0m \u001b[0;32melse\u001b[0m \u001b[0mlist\u001b[0m\u001b[0;34m(\u001b[0m\u001b[0moutput\u001b[0m\u001b[0;34m)\u001b[0m\u001b[0;34m\u001b[0m\u001b[0;34m\u001b[0m\u001b[0m\n\u001b[0m\u001b[1;32m   1864\u001b[0m \u001b[0;34m\u001b[0m\u001b[0m\n\u001b[1;32m   1865\u001b[0m         \u001b[0;31m# Let's create an ID that uniquely identifies the current call. If the\u001b[0m\u001b[0;34m\u001b[0m\u001b[0;34m\u001b[0m\u001b[0m\n",
            "\u001b[0;32m/usr/local/lib/python3.10/dist-packages/joblib/parallel.py\u001b[0m in \u001b[0;36m_get_sequential_output\u001b[0;34m(self, iterable)\u001b[0m\n\u001b[1;32m   1790\u001b[0m                 \u001b[0mself\u001b[0m\u001b[0;34m.\u001b[0m\u001b[0mn_dispatched_batches\u001b[0m \u001b[0;34m+=\u001b[0m \u001b[0;36m1\u001b[0m\u001b[0;34m\u001b[0m\u001b[0;34m\u001b[0m\u001b[0m\n\u001b[1;32m   1791\u001b[0m                 \u001b[0mself\u001b[0m\u001b[0;34m.\u001b[0m\u001b[0mn_dispatched_tasks\u001b[0m \u001b[0;34m+=\u001b[0m \u001b[0;36m1\u001b[0m\u001b[0;34m\u001b[0m\u001b[0;34m\u001b[0m\u001b[0m\n\u001b[0;32m-> 1792\u001b[0;31m                 \u001b[0mres\u001b[0m \u001b[0;34m=\u001b[0m \u001b[0mfunc\u001b[0m\u001b[0;34m(\u001b[0m\u001b[0;34m*\u001b[0m\u001b[0margs\u001b[0m\u001b[0;34m,\u001b[0m \u001b[0;34m**\u001b[0m\u001b[0mkwargs\u001b[0m\u001b[0;34m)\u001b[0m\u001b[0;34m\u001b[0m\u001b[0;34m\u001b[0m\u001b[0m\n\u001b[0m\u001b[1;32m   1793\u001b[0m                 \u001b[0mself\u001b[0m\u001b[0;34m.\u001b[0m\u001b[0mn_completed_tasks\u001b[0m \u001b[0;34m+=\u001b[0m \u001b[0;36m1\u001b[0m\u001b[0;34m\u001b[0m\u001b[0;34m\u001b[0m\u001b[0m\n\u001b[1;32m   1794\u001b[0m                 \u001b[0mself\u001b[0m\u001b[0;34m.\u001b[0m\u001b[0mprint_progress\u001b[0m\u001b[0;34m(\u001b[0m\u001b[0;34m)\u001b[0m\u001b[0;34m\u001b[0m\u001b[0;34m\u001b[0m\u001b[0m\n",
            "\u001b[0;32m/usr/local/lib/python3.10/dist-packages/sklearn/utils/parallel.py\u001b[0m in \u001b[0;36m__call__\u001b[0;34m(self, *args, **kwargs)\u001b[0m\n\u001b[1;32m    121\u001b[0m             \u001b[0mconfig\u001b[0m \u001b[0;34m=\u001b[0m \u001b[0;34m{\u001b[0m\u001b[0;34m}\u001b[0m\u001b[0;34m\u001b[0m\u001b[0;34m\u001b[0m\u001b[0m\n\u001b[1;32m    122\u001b[0m         \u001b[0;32mwith\u001b[0m \u001b[0mconfig_context\u001b[0m\u001b[0;34m(\u001b[0m\u001b[0;34m**\u001b[0m\u001b[0mconfig\u001b[0m\u001b[0;34m)\u001b[0m\u001b[0;34m:\u001b[0m\u001b[0;34m\u001b[0m\u001b[0;34m\u001b[0m\u001b[0m\n\u001b[0;32m--> 123\u001b[0;31m             \u001b[0;32mreturn\u001b[0m \u001b[0mself\u001b[0m\u001b[0;34m.\u001b[0m\u001b[0mfunction\u001b[0m\u001b[0;34m(\u001b[0m\u001b[0;34m*\u001b[0m\u001b[0margs\u001b[0m\u001b[0;34m,\u001b[0m \u001b[0;34m**\u001b[0m\u001b[0mkwargs\u001b[0m\u001b[0;34m)\u001b[0m\u001b[0;34m\u001b[0m\u001b[0;34m\u001b[0m\u001b[0m\n\u001b[0m",
            "\u001b[0;32m/usr/local/lib/python3.10/dist-packages/sklearn/ensemble/_forest.py\u001b[0m in \u001b[0;36m_parallel_build_trees\u001b[0;34m(tree, bootstrap, X, y, sample_weight, tree_idx, n_trees, verbose, class_weight, n_samples_bootstrap)\u001b[0m\n\u001b[1;32m    182\u001b[0m             \u001b[0mcurr_sample_weight\u001b[0m \u001b[0;34m*=\u001b[0m \u001b[0mcompute_sample_weight\u001b[0m\u001b[0;34m(\u001b[0m\u001b[0;34m\"balanced\"\u001b[0m\u001b[0;34m,\u001b[0m \u001b[0my\u001b[0m\u001b[0;34m,\u001b[0m \u001b[0mindices\u001b[0m\u001b[0;34m=\u001b[0m\u001b[0mindices\u001b[0m\u001b[0;34m)\u001b[0m\u001b[0;34m\u001b[0m\u001b[0;34m\u001b[0m\u001b[0m\n\u001b[1;32m    183\u001b[0m \u001b[0;34m\u001b[0m\u001b[0m\n\u001b[0;32m--> 184\u001b[0;31m         \u001b[0mtree\u001b[0m\u001b[0;34m.\u001b[0m\u001b[0mfit\u001b[0m\u001b[0;34m(\u001b[0m\u001b[0mX\u001b[0m\u001b[0;34m,\u001b[0m \u001b[0my\u001b[0m\u001b[0;34m,\u001b[0m \u001b[0msample_weight\u001b[0m\u001b[0;34m=\u001b[0m\u001b[0mcurr_sample_weight\u001b[0m\u001b[0;34m,\u001b[0m \u001b[0mcheck_input\u001b[0m\u001b[0;34m=\u001b[0m\u001b[0;32mFalse\u001b[0m\u001b[0;34m)\u001b[0m\u001b[0;34m\u001b[0m\u001b[0;34m\u001b[0m\u001b[0m\n\u001b[0m\u001b[1;32m    185\u001b[0m     \u001b[0;32melse\u001b[0m\u001b[0;34m:\u001b[0m\u001b[0;34m\u001b[0m\u001b[0;34m\u001b[0m\u001b[0m\n\u001b[1;32m    186\u001b[0m         \u001b[0mtree\u001b[0m\u001b[0;34m.\u001b[0m\u001b[0mfit\u001b[0m\u001b[0;34m(\u001b[0m\u001b[0mX\u001b[0m\u001b[0;34m,\u001b[0m \u001b[0my\u001b[0m\u001b[0;34m,\u001b[0m \u001b[0msample_weight\u001b[0m\u001b[0;34m=\u001b[0m\u001b[0msample_weight\u001b[0m\u001b[0;34m,\u001b[0m \u001b[0mcheck_input\u001b[0m\u001b[0;34m=\u001b[0m\u001b[0;32mFalse\u001b[0m\u001b[0;34m)\u001b[0m\u001b[0;34m\u001b[0m\u001b[0;34m\u001b[0m\u001b[0m\n",
            "\u001b[0;32m/usr/local/lib/python3.10/dist-packages/sklearn/tree/_classes.py\u001b[0m in \u001b[0;36mfit\u001b[0;34m(self, X, y, sample_weight, check_input)\u001b[0m\n\u001b[1;32m    887\u001b[0m         \"\"\"\n\u001b[1;32m    888\u001b[0m \u001b[0;34m\u001b[0m\u001b[0m\n\u001b[0;32m--> 889\u001b[0;31m         super().fit(\n\u001b[0m\u001b[1;32m    890\u001b[0m             \u001b[0mX\u001b[0m\u001b[0;34m,\u001b[0m\u001b[0;34m\u001b[0m\u001b[0;34m\u001b[0m\u001b[0m\n\u001b[1;32m    891\u001b[0m             \u001b[0my\u001b[0m\u001b[0;34m,\u001b[0m\u001b[0;34m\u001b[0m\u001b[0;34m\u001b[0m\u001b[0m\n",
            "\u001b[0;32m/usr/local/lib/python3.10/dist-packages/sklearn/tree/_classes.py\u001b[0m in \u001b[0;36mfit\u001b[0;34m(self, X, y, sample_weight, check_input)\u001b[0m\n\u001b[1;32m    234\u001b[0m             \u001b[0;32mfor\u001b[0m \u001b[0mk\u001b[0m \u001b[0;32min\u001b[0m \u001b[0mrange\u001b[0m\u001b[0;34m(\u001b[0m\u001b[0mself\u001b[0m\u001b[0;34m.\u001b[0m\u001b[0mn_outputs_\u001b[0m\u001b[0;34m)\u001b[0m\u001b[0;34m:\u001b[0m\u001b[0;34m\u001b[0m\u001b[0;34m\u001b[0m\u001b[0m\n\u001b[1;32m    235\u001b[0m                 \u001b[0mclasses_k\u001b[0m\u001b[0;34m,\u001b[0m \u001b[0my_encoded\u001b[0m\u001b[0;34m[\u001b[0m\u001b[0;34m:\u001b[0m\u001b[0;34m,\u001b[0m \u001b[0mk\u001b[0m\u001b[0;34m]\u001b[0m \u001b[0;34m=\u001b[0m \u001b[0mnp\u001b[0m\u001b[0;34m.\u001b[0m\u001b[0munique\u001b[0m\u001b[0;34m(\u001b[0m\u001b[0my\u001b[0m\u001b[0;34m[\u001b[0m\u001b[0;34m:\u001b[0m\u001b[0;34m,\u001b[0m \u001b[0mk\u001b[0m\u001b[0;34m]\u001b[0m\u001b[0;34m,\u001b[0m \u001b[0mreturn_inverse\u001b[0m\u001b[0;34m=\u001b[0m\u001b[0;32mTrue\u001b[0m\u001b[0;34m)\u001b[0m\u001b[0;34m\u001b[0m\u001b[0;34m\u001b[0m\u001b[0m\n\u001b[0;32m--> 236\u001b[0;31m                 \u001b[0mself\u001b[0m\u001b[0;34m.\u001b[0m\u001b[0mclasses_\u001b[0m\u001b[0;34m.\u001b[0m\u001b[0mappend\u001b[0m\u001b[0;34m(\u001b[0m\u001b[0mclasses_k\u001b[0m\u001b[0;34m)\u001b[0m\u001b[0;34m\u001b[0m\u001b[0;34m\u001b[0m\u001b[0m\n\u001b[0m\u001b[1;32m    237\u001b[0m                 \u001b[0mself\u001b[0m\u001b[0;34m.\u001b[0m\u001b[0mn_classes_\u001b[0m\u001b[0;34m.\u001b[0m\u001b[0mappend\u001b[0m\u001b[0;34m(\u001b[0m\u001b[0mclasses_k\u001b[0m\u001b[0;34m.\u001b[0m\u001b[0mshape\u001b[0m\u001b[0;34m[\u001b[0m\u001b[0;36m0\u001b[0m\u001b[0;34m]\u001b[0m\u001b[0;34m)\u001b[0m\u001b[0;34m\u001b[0m\u001b[0;34m\u001b[0m\u001b[0m\n\u001b[1;32m    238\u001b[0m             \u001b[0my\u001b[0m \u001b[0;34m=\u001b[0m \u001b[0my_encoded\u001b[0m\u001b[0;34m\u001b[0m\u001b[0;34m\u001b[0m\u001b[0m\n",
            "\u001b[0;31mKeyboardInterrupt\u001b[0m: "
          ]
        }
      ],
      "source": [
        "# using randomforestclassifier on data generated by PCA\n",
        "\n",
        "from sklearn.metrics import hamming_loss\n",
        "from sklearn.model_selection import train_test_split\n",
        "xt = RandomForestClassifier(n_estimators=100, random_state=42)\n",
        "X_train, X_test, y_train, y_test = train_test_split(X_pca, y, test_size=0.2)\n",
        "\n",
        "xt.fit(X_train, y_train)\n",
        "\n",
        "# predict on the test data\n",
        "y_pred = xt.predict(X_test)\n",
        "y_final=xt.predict(Te_pca)\n",
        "print('os_hamming:',hamming_loss(y_test,y_pred))\n"
      ]
    },
    {
      "cell_type": "code",
      "execution_count": null,
      "id": "564cbb90",
      "metadata": {
        "id": "564cbb90"
      },
      "outputs": [],
      "source": [
        "#trying to predict each target individually and ensemble all models in a list model\n",
        "\n",
        "import xgboost as xgb\n",
        "from sklearn.model_selection import train_test_split\n",
        "\n",
        "# Split the data into train and test sets\n",
        "X_train, X_test, y_train, y_test = train_test_split(tr, y, test_size=0.1, random_state=42)\n",
        "\n",
        "# Train the XGBoost model\n",
        "params = {\n",
        "    'objective': 'binary:logistic',\n",
        "    'eval_metric': 'logloss',\n",
        "    'max_depth': 15,\n",
        "    'learning_rate': 0.1,\n",
        "    'n_estimators': 500,\n",
        "    'n_jobs': -1\n",
        "}\n",
        "\n",
        "num_targets = y.shape[1]\n",
        "model = []\n",
        "for i in range(num_targets):\n",
        "    y_train_i = y_train.iloc[:, i]\n",
        "    y_test_i = y_test.iloc[:, i]\n",
        "    dtrain = xgb.DMatrix(X_train, label=y_train_i)\n",
        "    dtest = xgb.DMatrix(X_test, label=y_test_i)\n",
        "    model_i = xgb.train(params, dtrain, num_boost_round=500,early_stopping_rounds=10, evals=[(dtest, 'test')])\n",
        "    model.append(model_i)"
      ]
    },
    {
      "cell_type": "code",
      "execution_count": null,
      "id": "0cf2bcd5",
      "metadata": {
        "id": "0cf2bcd5"
      },
      "outputs": [],
      "source": [
        "y_pred = np.zeros((159631,15))\n",
        "for i in range(num_targets):\n",
        "    y_pred_i = model[i].predict(xgb.DMatrix(te))\n",
        "    y_pred[:, i] = np.round(y_pred_i)\n",
        "\n",
        "y_pred"
      ]
    },
    {
      "cell_type": "code",
      "execution_count": null,
      "id": "d2a0bcbf",
      "metadata": {
        "id": "d2a0bcbf"
      },
      "outputs": [],
      "source": [
        "#make submission\n",
        "ss.iloc[:,1:] = y_pred"
      ]
    },
    {
      "cell_type": "code",
      "execution_count": null,
      "id": "fa12387c",
      "metadata": {
        "id": "fa12387c"
      },
      "outputs": [],
      "source": [
        "ss"
      ]
    },
    {
      "cell_type": "code",
      "execution_count": null,
      "id": "3b83f9b9",
      "metadata": {
        "id": "3b83f9b9"
      },
      "outputs": [],
      "source": [
        "ss.to_csv('AAA.csv',index=False)"
      ]
    },
    {
      "cell_type": "code",
      "execution_count": null,
      "id": "7499ac36",
      "metadata": {
        "id": "7499ac36"
      },
      "outputs": [],
      "source": []
    }
  ],
  "metadata": {
    "kernelspec": {
      "display_name": "Python 3 (ipykernel)",
      "language": "python",
      "name": "python3"
    },
    "language_info": {
      "codemirror_mode": {
        "name": "ipython",
        "version": 3
      },
      "file_extension": ".py",
      "mimetype": "text/x-python",
      "name": "python",
      "nbconvert_exporter": "python",
      "pygments_lexer": "ipython3",
      "version": "3.11.0"
    },
    "colab": {
      "provenance": []
    }
  },
  "nbformat": 4,
  "nbformat_minor": 5
}